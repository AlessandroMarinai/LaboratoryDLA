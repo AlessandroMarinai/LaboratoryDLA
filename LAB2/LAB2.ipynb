{
  "cells": [
    {
      "cell_type": "markdown",
      "id": "0f5d0b9d-7980-4d2c-8154-c07a5f8b5525",
      "metadata": {
        "id": "0f5d0b9d-7980-4d2c-8154-c07a5f8b5525"
      },
      "source": [
        "# Exercise 1: Warming Up\n",
        "In this first exercise I trained a *small* autoregressive GPT model for character generation (the one used by Karpathy in his video) to generate text in the style of Dante Aligheri."
      ]
    },
    {
      "cell_type": "markdown",
      "source": [
        "#### Colab Setup"
      ],
      "metadata": {
        "id": "MzBOftqf3t0z"
      },
      "id": "MzBOftqf3t0z"
    },
    {
      "cell_type": "code",
      "execution_count": 3,
      "id": "60LOKwVPb04G",
      "metadata": {
        "colab": {
          "base_uri": "https://localhost:8080/"
        },
        "id": "60LOKwVPb04G",
        "outputId": "2fe6a5ea-b7be-4daa-e5e1-aa2675924330"
      },
      "outputs": [
        {
          "output_type": "stream",
          "name": "stdout",
          "text": [
            "Mounted at /content/drive\n"
          ]
        }
      ],
      "source": [
        "#if using colab\n",
        "from google.colab import drive\n",
        "drive.mount('/content/drive')"
      ]
    },
    {
      "cell_type": "code",
      "source": [
        "!pip install transformers datasets wandb torchmetrics"
      ],
      "metadata": {
        "id": "BHIc-uIA36JA"
      },
      "id": "BHIc-uIA36JA",
      "execution_count": null,
      "outputs": []
    },
    {
      "cell_type": "markdown",
      "source": [
        "#### Basic Imports"
      ],
      "metadata": {
        "id": "W8Ay1ksk3xLb"
      },
      "id": "W8Ay1ksk3xLb"
    },
    {
      "cell_type": "code",
      "execution_count": 4,
      "id": "nsa8O30cbb8O",
      "metadata": {
        "id": "nsa8O30cbb8O"
      },
      "outputs": [],
      "source": [
        "import torch\n",
        "import torch.nn as nn\n",
        "from torch.nn import functional as F"
      ]
    },
    {
      "cell_type": "markdown",
      "source": [
        "#### Dante Generator"
      ],
      "metadata": {
        "id": "W399xR1F3914"
      },
      "id": "W399xR1F3914"
    },
    {
      "cell_type": "code",
      "execution_count": null,
      "id": "1g5437u-bl-7",
      "metadata": {
        "id": "1g5437u-bl-7"
      },
      "outputs": [],
      "source": [
        "batch_size = 64 # how many independent sequences will we process in parallel?\n",
        "block_size = 256 # what is the maximum context length for predictions?\n",
        "max_iters = 10000\n",
        "eval_interval = 500\n",
        "learning_rate = 3e-4\n",
        "device = 'cuda' if torch.cuda.is_available() else 'cpu'\n",
        "eval_iters = 200\n",
        "n_embd = 384\n",
        "n_head = 6\n",
        "n_layer = 6\n",
        "dropout = 0.2\n",
        "\n",
        "torch.manual_seed(1337)\n",
        "\n",
        "# wget https://raw.githubusercontent.com/karpathy/char-rnn/master/data/tinyshakespeare/input.txt\n",
        "with open('/content/drive/MyDrive/LaboratoryDLA/LAB2/dante.txt', 'r', encoding='utf-8') as f:\n",
        "    text = f.read()\n",
        "\n",
        "# here are all the unique characters that occur in this text\n",
        "chars = sorted(list(set(text)))\n",
        "vocab_size = len(chars)\n",
        "# create a mapping from characters to integers\n",
        "stoi = { ch:i for i,ch in enumerate(chars) }\n",
        "itos = { i:ch for i,ch in enumerate(chars) }\n",
        "encode = lambda s: [stoi[c] for c in s] # encoder: take a string, output a list of integers\n",
        "decode = lambda l: ''.join([itos[i] for i in l]) # decoder: take a list of integers, output a string\n",
        "\n",
        "# Train and test splits\n",
        "data = torch.tensor(encode(text), dtype=torch.long)\n",
        "n = int(0.9*len(data)) # first 90% will be train, rest val\n",
        "train_data = data[:n]\n",
        "val_data = data[n:]\n",
        "\n",
        "# data loading\n",
        "def get_batch(split):\n",
        "    # generate a small batch of data of inputs x and targets y\n",
        "    data = train_data if split == 'train' else val_data\n",
        "    ix = torch.randint(len(data) - block_size, (batch_size,))\n",
        "    x = torch.stack([data[i:i+block_size] for i in ix])\n",
        "    y = torch.stack([data[i+1:i+block_size+1] for i in ix])\n",
        "    x, y = x.to(device), y.to(device)\n",
        "    return x, y\n",
        "\n",
        "@torch.no_grad()\n",
        "def estimate_loss():\n",
        "    out = {}\n",
        "    model.eval()\n",
        "    for split in ['train', 'val']:\n",
        "        losses = torch.zeros(eval_iters)\n",
        "        for k in range(eval_iters):\n",
        "            X, Y = get_batch(split)\n",
        "            logits, loss = model(X, Y)\n",
        "            losses[k] = loss.item()\n",
        "        out[split] = losses.mean()\n",
        "    model.train()\n",
        "    return out"
      ]
    },
    {
      "cell_type": "markdown",
      "source": [
        "#### The model"
      ],
      "metadata": {
        "id": "jTxKWSwy4BRv"
      },
      "id": "jTxKWSwy4BRv"
    },
    {
      "cell_type": "code",
      "execution_count": null,
      "id": "bd466d3b-cc41-4de3-9f82-3547569909f0",
      "metadata": {
        "id": "bd466d3b-cc41-4de3-9f82-3547569909f0"
      },
      "outputs": [],
      "source": [
        "class Head(nn.Module):\n",
        "    \"\"\" one head of self-attention \"\"\"\n",
        "\n",
        "    def __init__(self, head_size):\n",
        "        super().__init__()\n",
        "        self.key = nn.Linear(n_embd, head_size, bias=False)\n",
        "        self.query = nn.Linear(n_embd, head_size, bias=False)\n",
        "        self.value = nn.Linear(n_embd, head_size, bias=False)\n",
        "        self.register_buffer('tril', torch.tril(torch.ones(block_size, block_size)))\n",
        "\n",
        "        self.dropout = nn.Dropout(dropout)\n",
        "\n",
        "    def forward(self, x):\n",
        "        # input of size (batch, time-step, channels)\n",
        "        # output of size (batch, time-step, head size)\n",
        "        B,T,C = x.shape\n",
        "        k = self.key(x)   # (B,T,hs)\n",
        "        q = self.query(x) # (B,T,hs)\n",
        "        # compute attention scores (\"affinities\")\n",
        "        wei = q @ k.transpose(-2,-1) * k.shape[-1]**-0.5 # (B, T, hs) @ (B, hs, T) -> (B, T, T)\n",
        "        wei = wei.masked_fill(self.tril[:T, :T] == 0, float('-inf')) # (B, T, T)\n",
        "        wei = F.softmax(wei, dim=-1) # (B, T, T)\n",
        "        wei = self.dropout(wei)\n",
        "        # perform the weighted aggregation of the values\n",
        "        v = self.value(x) # (B,T,hs)\n",
        "        out = wei @ v # (B, T, T) @ (B, T, hs) -> (B, T, hs)\n",
        "        return out\n",
        "\n",
        "class MultiHeadAttention(nn.Module):\n",
        "    \"\"\" multiple heads of self-attention in parallel \"\"\"\n",
        "\n",
        "    def __init__(self, num_heads, head_size):\n",
        "        super().__init__()\n",
        "        self.heads = nn.ModuleList([Head(head_size) for _ in range(num_heads)])\n",
        "        self.proj = nn.Linear(head_size * num_heads, n_embd)\n",
        "        self.dropout = nn.Dropout(dropout)\n",
        "\n",
        "    def forward(self, x):\n",
        "        out = torch.cat([h(x) for h in self.heads], dim=-1)\n",
        "        out = self.dropout(self.proj(out))\n",
        "        return out\n",
        "\n",
        "class FeedFoward(nn.Module):\n",
        "    \"\"\" a simple linear layer followed by a non-linearity \"\"\"\n",
        "\n",
        "    def __init__(self, n_embd):\n",
        "        super().__init__()\n",
        "        self.net = nn.Sequential(\n",
        "            nn.Linear(n_embd, 4 * n_embd),\n",
        "            nn.ReLU(),\n",
        "            nn.Linear(4 * n_embd, n_embd),\n",
        "            nn.Dropout(dropout),\n",
        "        )\n",
        "\n",
        "    def forward(self, x):\n",
        "        return self.net(x)\n",
        "\n",
        "class Block(nn.Module):\n",
        "    \"\"\" Transformer block: communication followed by computation \"\"\"\n",
        "\n",
        "    def __init__(self, n_embd, n_head):\n",
        "        # n_embd: embedding dimension, n_head: the number of heads we'd like\n",
        "        super().__init__()\n",
        "        head_size = n_embd // n_head\n",
        "        self.sa = MultiHeadAttention(n_head, head_size)\n",
        "        self.ffwd = FeedFoward(n_embd)\n",
        "        self.ln1 = nn.LayerNorm(n_embd)\n",
        "        self.ln2 = nn.LayerNorm(n_embd)\n",
        "\n",
        "    def forward(self, x):\n",
        "        x = x + self.sa(self.ln1(x))\n",
        "        x = x + self.ffwd(self.ln2(x))\n",
        "        return x\n",
        "\n",
        "class GPTLanguageModel(nn.Module):\n",
        "\n",
        "    def __init__(self):\n",
        "        super().__init__()\n",
        "        # each token directly reads off the logits for the next token from a lookup table\n",
        "        self.token_embedding_table = nn.Embedding(vocab_size, n_embd)\n",
        "        self.position_embedding_table = nn.Embedding(block_size, n_embd)\n",
        "        self.blocks = nn.Sequential(*[Block(n_embd, n_head=n_head) for _ in range(n_layer)])\n",
        "        self.ln_f = nn.LayerNorm(n_embd) # final layer norm\n",
        "        self.lm_head = nn.Linear(n_embd, vocab_size)\n",
        "\n",
        "        # better init, not covered in the original GPT video, but important, will cover in followup video\n",
        "        self.apply(self._init_weights)\n",
        "\n",
        "    def _init_weights(self, module):\n",
        "        if isinstance(module, nn.Linear):\n",
        "            torch.nn.init.normal_(module.weight, mean=0.0, std=0.02)\n",
        "            if module.bias is not None:\n",
        "                torch.nn.init.zeros_(module.bias)\n",
        "        elif isinstance(module, nn.Embedding):\n",
        "            torch.nn.init.normal_(module.weight, mean=0.0, std=0.02)\n",
        "\n",
        "    def forward(self, idx, targets=None):\n",
        "        B, T = idx.shape\n",
        "\n",
        "        # idx and targets are both (B,T) tensor of integers\n",
        "        tok_emb = self.token_embedding_table(idx) # (B,T,C)\n",
        "        pos_emb = self.position_embedding_table(torch.arange(T, device=device)) # (T,C)\n",
        "        x = tok_emb + pos_emb # (B,T,C)\n",
        "        x = self.blocks(x) # (B,T,C)\n",
        "        x = self.ln_f(x) # (B,T,C)\n",
        "        logits = self.lm_head(x) # (B,T,vocab_size)\n",
        "\n",
        "        if targets is None:\n",
        "            loss = None\n",
        "        else:\n",
        "            B, T, C = logits.shape\n",
        "            logits = logits.view(B*T, C)\n",
        "            targets = targets.view(B*T)\n",
        "            loss = F.cross_entropy(logits, targets)\n",
        "\n",
        "        return logits, loss\n",
        "\n",
        "    def generate(self, idx, max_new_tokens):\n",
        "      # idx is (B, T) array of indices in the current context\n",
        "      for _ in range(max_new_tokens):\n",
        "          # crop idx to the last block_size tokens\n",
        "          idx_cond = idx[:, -block_size:]\n",
        "          # get the predictions\n",
        "          logits, loss = self(idx_cond)\n",
        "          # focus only on the last time step\n",
        "          logits = logits[:, -1, :] # becomes (B, C)\n",
        "          # apply softmax to get probabilities\n",
        "          probs = F.softmax(logits, dim=-1) # (B, C)\n",
        "          # sample from the distribution\n",
        "          idx_next = torch.multinomial(probs, num_samples=1) # (B, 1)\n",
        "          # append sampled index to the running sequence\n",
        "          idx = torch.cat((idx, idx_next), dim=1) # (B, T+1)\n",
        "      return idx"
      ]
    },
    {
      "cell_type": "markdown",
      "source": [
        "####Training loop"
      ],
      "metadata": {
        "id": "ig8L5VJA4FPZ"
      },
      "id": "ig8L5VJA4FPZ"
    },
    {
      "cell_type": "code",
      "execution_count": null,
      "id": "S31W0ly_d7DL",
      "metadata": {
        "colab": {
          "base_uri": "https://localhost:8080/"
        },
        "id": "S31W0ly_d7DL",
        "outputId": "a3c120ea-03e9-4bea-d45d-637e27a2815b"
      },
      "outputs": [
        {
          "name": "stdout",
          "output_type": "stream",
          "text": [
            "10.783546 M parameters\n",
            "step 0: train loss 4.0481, val loss 4.0425\n",
            "step 500: train loss 1.7516, val loss 1.8010\n",
            "step 1000: train loss 1.2666, val loss 1.5518\n",
            "step 1500: train loss 0.7492, val loss 1.6696\n",
            "step 2000: train loss 0.2980, val loss 2.1068\n",
            "step 2500: train loss 0.1388, val loss 2.5982\n",
            "step 3000: train loss 0.0991, val loss 2.9071\n",
            "step 3500: train loss 0.0872, val loss 3.1320\n",
            "step 4000: train loss 0.0803, val loss 3.3237\n",
            "step 4500: train loss 0.0779, val loss 3.3884\n",
            "step 5000: train loss 0.0731, val loss 3.4739\n",
            "step 5500: train loss 0.0697, val loss 3.5807\n",
            "step 6000: train loss 0.0673, val loss 3.6510\n",
            "step 6500: train loss 0.0654, val loss 3.7594\n",
            "step 7000: train loss 0.0642, val loss 3.8150\n",
            "step 7500: train loss 0.0628, val loss 3.8619\n",
            "step 8000: train loss 0.0615, val loss 3.9680\n",
            "step 8500: train loss 0.0606, val loss 3.9595\n",
            "step 9000: train loss 0.0594, val loss 3.9947\n",
            "step 9500: train loss 0.0595, val loss 4.0293\n",
            "step 9999: train loss 0.0582, val loss 4.0792\n",
            "\n",
            "udir: <<Perche' mi se' tu si` gordo\n",
            "  di riguardar piu` me che li altri brutti?>>.\n",
            "  Rispicciararatuti, e bruse' dise:\n",
            "  <<Perche' ti diletti son questi che tu frodi\n",
            "  per che la selva fenite Carne in la Catto;\n",
            "\n",
            "ove l'acqua e` ben cinqu'opera l'unghio tempra,\n",
            "  e per la rena e 'l polmo tronco el consigno,\n",
            "  dicendo: <<Pria che bai sol l'ombra\n",
            "\n",
            "quando tra il si dileguan del riga\n",
            "  venire a piane di Fanticati, che Dio ne', ne' ti lasci il !r\n",
            "  e come fa reman era che lagrimase,\n",
            "\n",
            "come tu vedi in qu\n"
          ]
        }
      ],
      "source": [
        "model = GPTLanguageModel()\n",
        "m = model.to(device)\n",
        "# print the number of parameters in the model\n",
        "print(sum(p.numel() for p in m.parameters())/1e6, 'M parameters')\n",
        "\n",
        "# create a PyTorch optimizer\n",
        "optimizer = torch.optim.AdamW(model.parameters(), lr=learning_rate)\n",
        "\n",
        "for iter in range(max_iters):\n",
        "\n",
        "    # every once in a while evaluate the loss on train and val sets\n",
        "    if iter % eval_interval == 0 or iter == max_iters - 1:\n",
        "        losses = estimate_loss()\n",
        "        print(f\"step {iter}: train loss {losses['train']:.4f}, val loss {losses['val']:.4f}\")\n",
        "\n",
        "    # sample a batch of data\n",
        "    xb, yb = get_batch('train')\n",
        "\n",
        "    # evaluate the loss\n",
        "    logits, loss = model(xb, yb)\n",
        "    optimizer.zero_grad(set_to_none=True)\n",
        "    loss.backward()\n",
        "    optimizer.step()\n",
        "\n",
        "# generate from the model\n",
        "context = torch.zeros((1, 1), dtype=torch.long, device=device)\n",
        "print(decode(m.generate(context, max_new_tokens=500)[0].tolist()))\n",
        "#open('more.txt', 'w').write(decode(m.generate(context, max_new_tokens=10000)[0].tolist()))"
      ]
    },
    {
      "cell_type": "markdown",
      "id": "FJUgM7kbnXQH",
      "metadata": {
        "id": "FJUgM7kbnXQH"
      },
      "source": [
        "The model seems to be overfitted since the validation loss increases but the generated text looks ok."
      ]
    },
    {
      "cell_type": "markdown",
      "id": "68441a09-dfaf-424a-b640-4fc8cea289b5",
      "metadata": {
        "id": "68441a09-dfaf-424a-b640-4fc8cea289b5"
      },
      "source": [
        "# Exercise 2: Working with Real LLMs\n",
        "\n",
        "In this exercise I used the [Hugging Face](https://huggingface.co/) model and dataset ecosystem to access a *huge* variety of pre-trained transformer models.\n",
        "\n",
        "## Exercise 2.1: Installation and text tokenization\n",
        "\n",
        "Instantiate the `GPT2Tokenizer` and experiment with encoding text into integer tokens. Compare the length of input with the encoded sequence length.\n"
      ]
    },
    {
      "cell_type": "code",
      "execution_count": null,
      "id": "fmGzfz1HhlU2",
      "metadata": {
        "id": "fmGzfz1HhlU2"
      },
      "outputs": [],
      "source": [
        "from transformers import GPT2Tokenizer\n",
        "\n",
        "tokenizer = GPT2Tokenizer.from_pretrained(\"openai-community/gpt2\")\n",
        "text = \"Nel mezzo del cammin di nostra vita mi ritrovai per una selva oscura che' la diritta via era smarrita.\"\n",
        "\n",
        "tokenized_text = tokenizer.encode(text, return_tensors=\"pt\")\n",
        "print(f\"Text length {len(text)}, tokenized length {len(tokenized_text[0])}\")"
      ]
    },
    {
      "cell_type": "markdown",
      "source": [
        "**Results:**\n",
        "```\n",
        "Text length 102, tokenized length 38\n",
        "```\n",
        "\n"
      ],
      "metadata": {
        "id": "CqWD2Bfi4sUG"
      },
      "id": "CqWD2Bfi4sUG"
    },
    {
      "cell_type": "markdown",
      "id": "a458b725-63c1-49ae-8011-71a9196387b8",
      "metadata": {
        "id": "a458b725-63c1-49ae-8011-71a9196387b8"
      },
      "source": [
        "## Exercise 2.2: Generating Text\n",
        "\n",
        "Instantiate a pre-trained `GPT2LMHeadModel` and use the [`generate()`](https://huggingface.co/docs/transformers/v4.27.2/en/main_classes/text_generation#transformers.GenerationMixin.generate) method to generate text from a prompt."
      ]
    },
    {
      "cell_type": "code",
      "execution_count": null,
      "id": "bdad9208-cc9e-4750-baa5-f9367e71362a",
      "metadata": {
        "id": "bdad9208-cc9e-4750-baa5-f9367e71362a"
      },
      "outputs": [],
      "source": [
        "from transformers import GPT2Tokenizer, GPT2LMHeadModel, set_seed\n",
        "\n",
        "class Prompt_Generator:\n",
        "    def __init__(self, config):\n",
        "        self.tokenizer = GPT2Tokenizer.from_pretrained(config[\"Tokenizer\"])\n",
        "        self.model = GPT2LMHeadModel.from_pretrained(config[\"Model\"])\n",
        "        self.do_sample = config[\"do_sample\"]\n",
        "        self.temperature = config[\"temperature\"]\n",
        "        self.max_lenght = config[\"max_lenght\"]\n",
        "        self.no_repeat_ngram_size = config[\"no_repeat_ngram_size\"]\n",
        "        self.prompt = config.get(\"prompt\")\n",
        "\n",
        "    def generate(self, prompt = None, do_sample = None, temperature = None, max_lenght = None, no_repeat_ngram_size = None):\n",
        "        inputs = self.tokenizer(prompt, return_tensors=\"pt\")\n",
        "        if prompt is not None:\n",
        "          self.prompt = prompt\n",
        "        if temperature is not None:\n",
        "          self.temperature = temperature\n",
        "        if do_sample is not None:\n",
        "          self.do_sample = do_sample\n",
        "        if max_lenght is not None:\n",
        "          self.max_lenght = max_lenght\n",
        "        if no_repeat_ngram_size is not None:\n",
        "          self.no_repeat_ngram_size = no_repeat_ngram_size\n",
        "        tokenized_output = self.model.generate(**inputs,\n",
        "                                  max_new_tokens = self.max_lenght,\n",
        "                                  no_repeat_ngram_size = self.no_repeat_ngram_size,\n",
        "                                  temperature = self.temperature,\n",
        "                                  do_sample = self.do_sample,\n",
        "                                  pad_token_id = self.tokenizer.eos_token_id)\n",
        "        output = self.tokenizer.decode(tokenized_output[0], skip_special_tokens=True)\n",
        "        print(output)\n"
      ]
    },
    {
      "cell_type": "markdown",
      "source": [
        "#### Some trials with different parameters"
      ],
      "metadata": {
        "id": "tIu8FdgS6RTy"
      },
      "id": "tIu8FdgS6RTy"
    },
    {
      "cell_type": "code",
      "execution_count": null,
      "id": "a672HpZYa9AO",
      "metadata": {
        "colab": {
          "base_uri": "https://localhost:8080/"
        },
        "id": "a672HpZYa9AO",
        "outputId": "b87ce927-892c-470f-f4c5-e9a6bb5af061"
      },
      "outputs": [
        {
          "output_type": "stream",
          "name": "stdout",
          "text": [
            "What are you supposed to say if it doesn't happen… that it happened? Well that means to give your team the winning hand that got them down against an\n",
            "I am sorry - what were your worries before? I have learned not you - but what have yours - like I was? That, ahah? Oh...\n",
            "You like them. The one who came down under from this is really very attractive,\" Bitt said, referring to the Trump who won with fewer supporters than\n"
          ]
        }
      ],
      "source": [
        "config = {\"Tokenizer\": \"openai-community/gpt2\",\n",
        "        \"Model\": \"openai-community/gpt2\",\n",
        "        \"do_sample\": True,\n",
        "        \"temperature\": 2.0,\n",
        "        \"max_lenght\": 30,\n",
        "        \"no_repeat_ngram_size\": 2,\n",
        "        }\n",
        "\n",
        "prompt_generator = Prompt_Generator(config)\n",
        "prompt_generator.generate(\"What are\")\n",
        "prompt_generator.generate(\"I am\")\n",
        "prompt_generator.generate(\"You\")"
      ]
    },
    {
      "cell_type": "code",
      "source": [
        "prompt_generator.generate(\"What are\", do_sample=False)\n",
        "prompt_generator.generate(\"I am\")\n",
        "prompt_generator.generate(\"You\")"
      ],
      "metadata": {
        "colab": {
          "base_uri": "https://localhost:8080/"
        },
        "id": "Krx7dJph2qaU",
        "outputId": "b4b3134e-3887-46e3-b3e0-839cda3fa6ec"
      },
      "id": "Krx7dJph2qaU",
      "execution_count": null,
      "outputs": [
        {
          "output_type": "stream",
          "name": "stderr",
          "text": [
            "/usr/local/lib/python3.10/dist-packages/transformers/generation/configuration_utils.py:540: UserWarning: `do_sample` is set to `False`. However, `temperature` is set to `2.0` -- this flag is only used in sample-based generation modes. You should set `do_sample=True` or unset `temperature`.\n",
            "  warnings.warn(\n"
          ]
        },
        {
          "output_type": "stream",
          "name": "stdout",
          "text": [
            "What are the best ways to get your hands on a new game?\n",
            "\n",
            "We've got a lot of great games coming out this year, and we're\n",
            "I am not a fan of the idea of a \"big-budget\" movie. I think it's a waste of money.\n",
            "\n",
            "I think the movie\n",
            "You, the man who has been the most important person in my life, I am sorry for what I have done. I will never forget that day.\n"
          ]
        }
      ]
    },
    {
      "cell_type": "code",
      "source": [
        "prompt_generator.generate(\"What are\", do_sample=True, temperature= 9.0)\n",
        "prompt_generator.generate(\"I am\")\n",
        "prompt_generator.generate(\"You\")"
      ],
      "metadata": {
        "colab": {
          "base_uri": "https://localhost:8080/"
        },
        "id": "LAZU811e29G9",
        "outputId": "64801f0b-1a0a-44c2-f8c3-56a8d1de7f0d"
      },
      "id": "LAZU811e29G9",
      "execution_count": null,
      "outputs": [
        {
          "output_type": "stream",
          "name": "stdout",
          "text": [
            "What are YOU watching next (not on CBS right where We've never heard on that) CBS SundayNight's Jon Belgrade chats politics (@SandyStrick\n",
            "I am looking across both systems again... \"A: Okay for any further question.\" ―Thon Tse'nin and Lor Rond with Hao J\n",
            "You \"must always carry something. And be as free not averse...\" - Michael Carusoglu In order unto men of virtue to fulfill those qualities to\n"
          ]
        }
      ]
    },
    {
      "cell_type": "markdown",
      "source": [
        "*Raising the **temperature** makes the generation pretty bad.*"
      ],
      "metadata": {
        "id": "2aFbUVgN3aUj"
      },
      "id": "2aFbUVgN3aUj"
    },
    {
      "cell_type": "code",
      "source": [
        "prompt_generator.generate(\"What are\", do_sample=True, temperature= 2.0, no_repeat_ngram_size=5)\n",
        "prompt_generator.generate(\"I am\")\n",
        "prompt_generator.generate(\"You\")"
      ],
      "metadata": {
        "colab": {
          "base_uri": "https://localhost:8080/"
        },
        "id": "IpIT7M1k4VUr",
        "outputId": "588659b0-9863-4419-900d-cb969a58d91b"
      },
      "id": "IpIT7M1k4VUr",
      "execution_count": null,
      "outputs": [
        {
          "output_type": "stream",
          "name": "stdout",
          "text": [
            "What are Your thoughts about this case?\n",
            "\n",
            "Your favorite news outlets make each of their headlines based entirely on what stories they want (see newsrooms from your\n",
            "I am afraid we all learn very soon from childhood how quickly we have come into contact between man the thing to worry about the little one to whom to relate.\n",
            "You to try?\n",
            "\n",
            "Have something specific to offer? Email: askalev.bazakh < AskAriV@google.com> or\n"
          ]
        }
      ]
    },
    {
      "cell_type": "code",
      "source": [
        "prompt_generator.generate(\"What are\", do_sample=True, temperature= 2.0, no_repeat_ngram_size=9)\n",
        "prompt_generator.generate(\"I am\")\n",
        "prompt_generator.generate(\"You\")"
      ],
      "metadata": {
        "colab": {
          "base_uri": "https://localhost:8080/"
        },
        "id": "w7saK2IO3hH8",
        "outputId": "85311ab8-c86f-4000-9863-ddeacbfab849"
      },
      "id": "w7saK2IO3hH8",
      "execution_count": null,
      "outputs": [
        {
          "output_type": "stream",
          "name": "stdout",
          "text": [
            "What are the latest tech and games release trends across every game category to know about and try to forecast next year? Who did the best debut last month under \"\n",
            "I am truly humbled to be speaking up and making sure every single mother's son receives a clean, honest medical treatment that respects a fetus from her or her\n",
            "You a liar?\" my mother asked with wide eyes and no remorse? We laughed like little boys! And who among us looked shocked when I got back to\n"
          ]
        }
      ]
    },
    {
      "cell_type": "markdown",
      "source": [
        "*Also raising the **no_repeat_ngram_size** too much makes the generation a little less natural.*"
      ],
      "metadata": {
        "id": "fZOKWiWD4efx"
      },
      "id": "fZOKWiWD4efx"
    },
    {
      "cell_type": "markdown",
      "id": "9b3d00e7-d4db-440f-8702-11118f07b0a4",
      "metadata": {
        "id": "9b3d00e7-d4db-440f-8702-11118f07b0a4"
      },
      "source": [
        "# Exercise 3.1: Training a Text Classifier\n",
        "\n",
        "Peruse the [text classification datasets on Hugging Face](https://huggingface.co/datasets?task_categories=task_categories:text-classification&sort=downloads). Choose a *moderately* sized dataset and use a LLM to train a classifier to solve the problem.\n",
        "\n",
        "**Note**: A good first baseline for this problem is certainly to use an LLM *exclusively* as a feature extractor and then train a shallow model.\n",
        "\n"
      ]
    },
    {
      "cell_type": "markdown",
      "source": [
        "#### Model Definition"
      ],
      "metadata": {
        "id": "2adFnJe567W_"
      },
      "id": "2adFnJe567W_"
    },
    {
      "cell_type": "code",
      "execution_count": 2,
      "id": "XN1Md8Pkl8Tl",
      "metadata": {
        "id": "XN1Md8Pkl8Tl"
      },
      "outputs": [],
      "source": [
        "from transformers import DistilBertTokenizer, DistilBertModel, set_seed\n",
        "from datasets import load_dataset\n",
        "import torch\n",
        "import torch.nn as nn\n",
        "from torch.nn import functional as F\n",
        "\n",
        "class TextClassifier(nn.Module):\n",
        "    def __init__(self, num_classes = 2):\n",
        "        super(TextClassifier, self).__init__()\n",
        "        self.tokenizer = DistilBertTokenizer.from_pretrained('distilbert-base-uncased')\n",
        "        self.backbone = DistilBertModel.from_pretrained(\"distilbert-base-uncased\")\n",
        "        self.head = nn.Sequential(\n",
        "            nn.Linear(768, 256),\n",
        "            nn.ReLU(),\n",
        "            nn.Linear(256, 128),\n",
        "            nn.ReLU(),\n",
        "            nn.Linear(128, num_classes)\n",
        "        )\n",
        "\n",
        "    def forward(self, text,attention_mask, device):\n",
        "        #inputs = self.tokenizer(text, return_tensors=\"pt\", padding=True, truncation=True, max_length=512)\n",
        "        inputs = text.to(device)\n",
        "        output = self.backbone(inputs, attention_mask = attention_mask)\n",
        "        cls_token = output['last_hidden_state'][:, 0, :]\n",
        "        return self.head(cls_token)"
      ]
    },
    {
      "cell_type": "markdown",
      "id": "3eFBBWE31YTf",
      "metadata": {
        "id": "3eFBBWE31YTf"
      },
      "source": [
        "#### LLM Trainer Definition inspired by the one in LAB1"
      ]
    },
    {
      "cell_type": "code",
      "execution_count": 3,
      "id": "IKfgT6_VVvp-",
      "metadata": {
        "id": "IKfgT6_VVvp-"
      },
      "outputs": [],
      "source": [
        "import torch\n",
        "import torch.nn as nn\n",
        "import torch.optim as optim\n",
        "from torch.utils.data import DataLoader, random_split\n",
        "import torchmetrics\n",
        "import wandb\n",
        "from transformers import AutoTokenizer, AutoModelForSequenceClassification\n",
        "from datasets import load_dataset, load_metric\n",
        "from tqdm import tqdm\n",
        "import os\n",
        "\n",
        "class LLMTrainer:\n",
        "    def __init__(self, config):\n",
        "\n",
        "        self.device = torch.device('cuda' if torch.cuda.is_available() else 'cpu')\n",
        "        self.num_epochs = config[\"num_epochs\"]\n",
        "        self.batch_size = config.get(\"batch_size\", 16)\n",
        "        self.learning_rate = config.get(\"learning_rate\", 5e-5)\n",
        "        self.model_name = config[\"model_name\"]\n",
        "\n",
        "        if config[\"use_wandb\"]:\n",
        "            self.use_wandb = True\n",
        "            wandb.init(project=\"TextClassification\", config=config)\n",
        "        else:\n",
        "            self.use_wandb = False\n",
        "\n",
        "        #self.tokenizer = AutoTokenizer.from_pretrained(self.pretrained)\n",
        "        #self.model = AutoModelForSequenceClassification.from_pretrained(self.pretrained, num_labels=int(config[\"num_classes\"]))\n",
        "        match self.model_name:\n",
        "            case \"text_classifier\":\n",
        "                self.model = TextClassifier(num_classes=int(config[\"num_classes\"]))\n",
        "                self.tokenizer = DistilBertTokenizer.from_pretrained('distilbert-base-uncased')\n",
        "                self.backbone = DistilBertModel.from_pretrained(\"distilbert-base-uncased\")\n",
        "\n",
        "        self.model.to(self.device)\n",
        "\n",
        "\n",
        "        # Dataset loading\n",
        "        dataset_name = config[\"dataset\"]\n",
        "        self.dataset = load_dataset(dataset_name)\n",
        "\n",
        "        # Tokenize datasets\n",
        "        self.train_dataset = self.dataset['train'].map(self.tokenize_function, batched=True)\n",
        "        if 'validation' in self.dataset:\n",
        "            self.val_dataset = self.dataset['validation'].map(self.tokenize_function, batched=True)\n",
        "        else:\n",
        "            # Create validation split from training data\n",
        "            val_size = int(0.2 * len(self.train_dataset))\n",
        "            train_size = len(self.train_dataset) - val_size\n",
        "            self.train_dataset, self.val_dataset = random_split(self.train_dataset, [train_size, val_size])\n",
        "\n",
        "        self.test_dataset = self.dataset['test'].map(self.tokenize_function, batched=True)\n",
        "\n",
        "        self.train_dataset.set_format(type='torch', columns=['input_ids', 'attention_mask', 'label'])\n",
        "        self.val_dataset.set_format(type='torch', columns=['input_ids', 'attention_mask', 'label'])\n",
        "        self.test_dataset.set_format(type='torch', columns=['input_ids', 'attention_mask', 'label'])\n",
        "\n",
        "        self.train_loader = DataLoader(self.train_dataset, batch_size=self.batch_size, shuffle=True)\n",
        "        self.val_loader = DataLoader(self.val_dataset, batch_size=self.batch_size, shuffle=False)\n",
        "        self.test_loader = DataLoader(self.test_dataset, batch_size=self.batch_size, shuffle=False)\n",
        "\n",
        "        self.training_mode = config[\"training_mode\"]\n",
        "        print(self.training_mode)\n",
        "        if self.training_mode == \"finetune\":\n",
        "            backbone_params = list(self.model.backbone.parameters())\n",
        "            head_params = list(self.model.head.parameters())\n",
        "            lrs = [\n",
        "                  {'params': backbone_params, 'lr': config[\"lr\"]/1e2},\n",
        "                  {'params': head_params, 'lr': config[\"lr\"]}\n",
        "            ]\n",
        "        elif self.training_mode == \"head_only\":\n",
        "            lrs = [\n",
        "                  {'params': self.model.head.parameters(), 'lr': config[\"lr\"]}\n",
        "            ]\n",
        "            for param in self.model.backbone.parameters():\n",
        "                  param.requires_grad = False\n",
        "        else:\n",
        "            lrs = [\n",
        "                  {'params': self.model.parameters(), 'lr': config[\"lr\"]}\n",
        "            ]\n",
        "        match config[\"optimizer\"]:\n",
        "            case \"adam\":\n",
        "                self.optimizer = optim.Adam(lrs)\n",
        "            case \"sgd\":\n",
        "                self.optimizer = optim.SGD(lrs)\n",
        "            case \"adamw\":\n",
        "                self.optimizer = optim.AdamW(lrs)\n",
        "            case _:\n",
        "                raise ValueError(f'Optimizer not found. Received {config[\"optimizer\"]}.')\n",
        "\n",
        "        match config[\"loss\"]:\n",
        "            case \"cross_entropy\":\n",
        "                self.loss = nn.CrossEntropyLoss()\n",
        "            case _:\n",
        "                raise ValueError(f'Loss not found. Received {config[\"loss\"]}.')\n",
        "\n",
        "        self.metrics = []\n",
        "        for metric in config[\"metrics\"]:\n",
        "            match metric:\n",
        "                case \"accuracy\":\n",
        "                    self.metrics.append(torchmetrics.Accuracy(task=\"multiclass\", num_classes=config[\"num_classes\"]).to(self.device))\n",
        "                case \"precision\":\n",
        "                    self.metrics.append(torchmetrics.Precision(task=\"multiclass\", average='macro', num_classes=config[\"num_classes\"]).to(self.device))\n",
        "                case \"recall\":\n",
        "                    self.metrics.append(torchmetrics.Recall(task=\"multiclass\", average='macro', num_classes=config[\"num_classes\"]).to(self.device))\n",
        "                case _:\n",
        "                    raise ValueError(f'Metric not found. Received {metric}.')\n",
        "\n",
        "    def tokenize_function(self, examples):\n",
        "        return self.tokenizer(examples['text'], padding=\"max_length\", truncation=True)\n",
        "\n",
        "    def train_head(self, epochs=10, lr=3e-4):\n",
        "        self.model.train()\n",
        "        optimizer = torch.optim.AdamW(self.model.head.parameters(), lr=lr)\n",
        "        criterion = nn.CrossEntropyLoss()\n",
        "        for epoch in range(epochs):\n",
        "            acc_loss = 0\n",
        "            for i, batch in tqdm(enumerate(self.train_loader)):\n",
        "                input_ids = batch[\"input_ids\"].to(self.device)\n",
        "                attention_mask = batch[\"attention_mask\"].to(self.device)\n",
        "                labels = batch[\"label\"].to(self.device)\n",
        "                optimizer.zero_grad()\n",
        "                outputs = self.model(input_ids, attention_mask=attention_mask)\n",
        "                loss = self.loss(outputs.logits, labels)\n",
        "                loss.backward()\n",
        "                optimizer.step()\n",
        "                acc_loss += loss.item()\n",
        "                if (i + 1) % 500 == 0:\n",
        "                    if self.use_wandb:\n",
        "                        wandb.log({\"loss\": acc_loss / 500})\n",
        "                    print(f\"Epoch {epoch}, batch {i}, loss {acc_loss / 500}\")\n",
        "                    acc_loss = 0\n",
        "\n",
        "    def train_one_epoch(self):\n",
        "        self.model.train()\n",
        "        running_loss = 0.0\n",
        "\n",
        "        for batch in tqdm(self.train_loader):\n",
        "            #print(batch)  # Print batch for debugging\n",
        "\n",
        "            input_ids = batch[\"input_ids\"].to(self.device)\n",
        "            attention_mask = batch[\"attention_mask\"].to(self.device)\n",
        "            labels = batch[\"label\"].to(self.device)\n",
        "\n",
        "            self.optimizer.zero_grad()\n",
        "            outputs = self.model(input_ids, attention_mask=attention_mask, device = self.device)\n",
        "            loss = self.loss(outputs, labels)\n",
        "\n",
        "            loss.backward()\n",
        "            self.optimizer.step()\n",
        "\n",
        "            running_loss += loss.item()\n",
        "\n",
        "        train_loss = running_loss / len(self.train_loader)\n",
        "        print(f\"Training Loss: {train_loss:.4f}\")\n",
        "\n",
        "    def evaluate(self):\n",
        "        self.model.eval()\n",
        "        val_loss = 0.0\n",
        "        all_preds = []\n",
        "        all_labels = []\n",
        "\n",
        "        with torch.no_grad():\n",
        "            for batch in self.val_loader:\n",
        "                input_ids = batch[\"input_ids\"].to(self.device)\n",
        "                attention_mask = batch[\"attention_mask\"].to(self.device)\n",
        "                labels = batch[\"label\"].to(self.device)\n",
        "                outputs = self.model(input_ids, attention_mask=attention_mask, device=self.device)\n",
        "                loss = self.loss(outputs, labels)\n",
        "\n",
        "                val_loss += loss.item()\n",
        "                all_preds.append(outputs.argmax(dim=-1))\n",
        "                all_labels.append(labels)\n",
        "\n",
        "        val_loss /= len(self.val_loader)\n",
        "        val_preds = torch.cat(all_preds)\n",
        "        val_labels = torch.cat(all_labels)\n",
        "\n",
        "        metrics = {metric.__class__.__name__: metric(val_preds, val_labels) for metric in self.metrics}\n",
        "\n",
        "        if self.use_wandb:\n",
        "            wandb.log({\"val_loss\": val_loss, **metrics})\n",
        "\n",
        "        print(f'Validation Loss: {val_loss:.4f}')\n",
        "        for name, value in metrics.items():\n",
        "            print(f'Validation {name}: {value:.4f}')\n",
        "\n",
        "\n",
        "    def test(self):\n",
        "        self.model.eval()\n",
        "        test_loss = 0.0\n",
        "        all_preds = []\n",
        "        all_labels = []\n",
        "\n",
        "        with torch.no_grad():\n",
        "            for batch in self.test_loader:\n",
        "                input_ids = batch[\"input_ids\"].to(self.device)\n",
        "                attention_mask = batch[\"attention_mask\"].to(self.device)\n",
        "                labels = batch[\"label\"].to(self.device)\n",
        "                outputs = self.model(input_ids, attention_mask=attention_mask, device=self.device)\n",
        "                loss = self.loss(outputs, labels)\n",
        "                test_loss += loss.item()\n",
        "                all_preds.append(outputs.argmax(dim=-1))\n",
        "                all_labels.append(labels)\n",
        "\n",
        "        test_loss /= len(self.test_loader)\n",
        "        test_preds = torch.cat(all_preds)\n",
        "        test_labels = torch.cat(all_labels)\n",
        "\n",
        "        metrics = {metric.__class__.__name__: metric(test_preds, test_labels) for metric in self.metrics}\n",
        "\n",
        "        if self.use_wandb:\n",
        "            wandb.log({\"test_loss\": test_loss, **metrics})\n",
        "\n",
        "        print(f'Test Loss: {test_loss:.4f}')\n",
        "        for name, value in metrics.items():\n",
        "            print(f'Test {name}: {value:.4f}')\n",
        "\n",
        "\n",
        "\n",
        "    def test_and_print(self, num_prints=20):\n",
        "        self.model.eval()\n",
        "        test_loss = 0.0\n",
        "        all_preds = []\n",
        "        all_labels = []\n",
        "        all_inputs = []\n",
        "        all_attention_masks = []\n",
        "        i = 0\n",
        "\n",
        "        with torch.no_grad():\n",
        "            for batch in self.test_loader:\n",
        "                input_ids = batch[\"input_ids\"].to(self.device)\n",
        "                attention_mask = batch[\"attention_mask\"].to(self.device)\n",
        "                labels = batch[\"label\"].to(self.device)\n",
        "                outputs = self.model(input_ids, attention_mask=attention_mask, device=self.device)\n",
        "                loss = self.loss(outputs, labels)\n",
        "                test_loss += loss.item()\n",
        "                all_preds.append(outputs.argmax(dim=-1).cpu())\n",
        "                all_labels.append(labels.cpu())\n",
        "                all_inputs.append(input_ids.cpu())\n",
        "                all_attention_masks.append(attention_mask.cpu())\n",
        "                if i > num_prints:\n",
        "                    break\n",
        "                i += 16\n",
        "\n",
        "        for pred, label, input_id, attention_mask in zip(all_preds, all_labels, all_inputs, all_attention_masks):\n",
        "            for p, l, ids, mask in zip(pred, label, input_id, attention_mask):\n",
        "                tokens = ids[mask == 1].tolist()  # Only consider tokens where the attention mask is 1\n",
        "                decoded_input = self.tokenizer.decode(tokens, skip_special_tokens=True)\n",
        "                print(f\"Input: {decoded_input}\")\n",
        "                print(f\"Prediction: {self.decode_emotion(p.item())}\")\n",
        "                print(f\"Label: {self.decode_emotion(l.item())}\")\n",
        "                print(\"-\" * 50)\n",
        "\n",
        "    def decode_emotion(self, i):\n",
        "        match i:\n",
        "          case 0:\n",
        "            return \"Sadness\"\n",
        "          case 1:\n",
        "            return \"Joy\"\n",
        "          case 2:\n",
        "            return \"Love\"\n",
        "          case 3:\n",
        "            return \"Anger\"\n",
        "          case 4:\n",
        "            return \"Fear\"\n",
        "          case 5:\n",
        "            return \"Surprise\"\n",
        "          case _:\n",
        "            raise ValueError(f'Emotion not found. Received {i}.')\n",
        "\n",
        "\n",
        "    def run(self):\n",
        "        for epoch in range(self.num_epochs):\n",
        "            print(f'Epoch {epoch + 1}/{self.num_epochs}')\n",
        "            self.train_one_epoch()\n",
        "            self.evaluate()\n",
        "        self.test()\n",
        "        self.test_and_print()\n",
        "        if self.use_wandb:\n",
        "            wandb.finish()\n"
      ]
    },
    {
      "cell_type": "markdown",
      "source": [
        "#### Classification Head Shallow Training"
      ],
      "metadata": {
        "id": "X0VgUm_g7dp1"
      },
      "id": "X0VgUm_g7dp1"
    },
    {
      "cell_type": "code",
      "source": [
        "config = {\n",
        "    \"use_wandb\": True,\n",
        "    \"num_epochs\": 10,\n",
        "    \"model_name\": \"text_classifier\",\n",
        "    \"dataset\": \"dair-ai/emotion\",\n",
        "    \"batch_size\": 16,\n",
        "    \"lr\": 5e-5,\n",
        "    \"num_classes\": 6,\n",
        "    \"metrics\": [\"accuracy\", \"precision\", \"recall\"],\n",
        "    \"optimizer\": \"adamw\",\n",
        "    \"loss\": \"cross_entropy\",\n",
        "    \"training_mode\": \"head_only\"\n",
        "}\n",
        "\n",
        "trainer = LLMTrainer(config)\n",
        "trainer.run()"
      ],
      "metadata": {
        "id": "fytuLxHF7bl0"
      },
      "id": "fytuLxHF7bl0",
      "execution_count": null,
      "outputs": []
    },
    {
      "cell_type": "markdown",
      "source": [
        "#### Quantitative Evaluation"
      ],
      "metadata": {
        "id": "HUo3xn-WSOfM"
      },
      "id": "HUo3xn-WSOfM"
    },
    {
      "cell_type": "markdown",
      "source": [
        "![immagine.png](data:image/png;base64,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)"
      ],
      "metadata": {
        "id": "3gRGSo5RSFAW"
      },
      "id": "3gRGSo5RSFAW"
    },
    {
      "cell_type": "markdown",
      "source": [
        "**Run Summary:** \\\n",
        "Test Loss: **1.1042** \\\n",
        "Test MulticlassAccuracy: **0.5850** \\\n",
        "Test MulticlassPrecision: **0.4788** \\\n",
        "Test MulticlassRecall: **0.4108**"
      ],
      "metadata": {
        "id": "BbzyhEIQSq7v"
      },
      "id": "BbzyhEIQSq7v"
    },
    {
      "cell_type": "markdown",
      "source": [
        "#### Qualitative Evaluation\n",
        "The model learned something since it is doing a almost 60% accuracy on a 6-class dataset but it probaby could do better."
      ],
      "metadata": {
        "id": "qLmXj5vkS7Up"
      },
      "id": "qLmXj5vkS7Up"
    },
    {
      "cell_type": "markdown",
      "source": [
        "\n",
        "\n",
        "```\n",
        "Input: im feeling rather rotten so im not very ambitious right now\n",
        "Prediction: Sadness\n",
        "Label: Sadness\n",
        "--------------------------------------------------\n",
        "Input: im updating my blog because i feel shitty\n",
        "Prediction: Anger\n",
        "Label: Sadness\n",
        "--------------------------------------------------\n",
        "Input: i never make her separate from me because i don t ever want her to feel like i m ashamed with her\n",
        "Prediction: Sadness\n",
        "Label: Sadness\n",
        "--------------------------------------------------\n",
        "Input: i left with my bouquet of red and yellow tulips under my arm feeling slightly more optimistic than when i arrived\n",
        "Prediction: Joy\n",
        "Label: Joy\n",
        "--------------------------------------------------\n",
        "Input: i was feeling a little vain when i did this one\n",
        "Prediction: Sadness\n",
        "Label: Sadness\n",
        "--------------------------------------------------\n",
        "Input: i cant walk into a shop anywhere where i do not feel uncomfortable\n",
        "Prediction: Joy\n",
        "Label: Fear\n",
        "--------------------------------------------------\n",
        "Input: i felt anger when at the end of a telephone call\n",
        "Prediction: Anger\n",
        "Label: Anger\n",
        "--------------------------------------------------\n",
        "Input: i explain why i clung to a relationship with a boy who was in many ways immature and uncommitted despite the excitement i should have been feeling for getting accepted into the masters program at the university of virginia\n",
        "Prediction: Joy\n",
        "Label: Joy\n",
        "--------------------------------------------------\n",
        "Input: i like to have the same breathless feeling as a reader eager to see what will happen next\n",
        "Prediction: Joy\n",
        "Label: Joy\n",
        "--------------------------------------------------\n",
        "Input: i jest i feel grumpy tired and pre menstrual which i probably am but then again its only been a week and im about as fit as a walrus on vacation for the summer\n",
        "Prediction: Sadness\n",
        "Label: Anger\n",
        "--------------------------------------------------\n",
        "Input: i don t feel particularly agitated\n",
        "Prediction: Fear\n",
        "Label: Fear\n",
        "--------------------------------------------------\n",
        "Input: i feel beautifully emotional knowing that these women of whom i knew just a handful were holding me and my baba on our journey\n",
        "Prediction: Love\n",
        "Label: Sadness\n",
        "--------------------------------------------------\n",
        "Input: i pay attention it deepens into a feeling of being invaded and helpless\n",
        "Prediction: Anger\n",
        "Label: Fear\n",
        "--------------------------------------------------\n",
        "Input: i just feel extremely comfortable with the group of people that i dont even need to hide myself\n",
        "Prediction: Joy\n",
        "Label: Joy\n",
        "--------------------------------------------------\n",
        "Input: i find myself in the odd position of feeling supportive of\n",
        "Prediction: Fear\n",
        "Label: Love\n",
        "--------------------------------------------------\n",
        "Input: i was feeling as heartbroken as im sure katniss was\n",
        "Prediction: Sadness\n",
        "Label: Sadness\n",
        "--------------------------------------------------\n",
        "Input: i feel a little mellow today\n",
        "Prediction: Joy\n",
        "Label: Joy\n",
        "--------------------------------------------------\n",
        "Input: i feel like my only role now would be to tear your sails with my pessimism and discontent\n",
        "Prediction: Anger\n",
        "Label: Sadness\n",
        "--------------------------------------------------\n",
        "Input: i feel just bcoz a fight we get mad to each other n u wanna make a publicity n let the world knows about our fight\n",
        "Prediction: Joy\n",
        "Label: Anger\n",
        "--------------------------------------------------\n",
        "Input: i feel like reds and purples are just so rich and kind of perfect\n",
        "Prediction: Joy\n",
        "Label: Joy\n",
        "--------------------------------------------------\n",
        "Input: im not sure the feeling of loss will ever go away but it may dull to a sweet feeling of nostalgia at what i shared in this life with my dad and the luck i had to have a dad for years\n",
        "Prediction: Sadness\n",
        "Label: Sadness\n",
        "--------------------------------------------------\n",
        "Input: i feel like ive gotten to know many of you through comments and emails and for that im appreciative and glad you are a part of this little space\n",
        "Prediction: Joy\n",
        "Label: Joy\n",
        "--------------------------------------------------\n",
        "Input: i survey my own posts over the last few years and only feel pleased with vague snippets of a few of them only feel that little bits of them capture what its like to be me or someone like me in dublin in the st century\n",
        "Prediction: Joy\n",
        "Label: Joy\n",
        "--------------------------------------------------\n",
        "Input: i also tell you in hopes that anyone who is still feeling stigmatized or ashamed of their mental health issues will let go of the stigma let go of the shame\n",
        "Prediction: Sadness\n",
        "Label: Sadness\n",
        "--------------------------------------------------\n",
        "Input: i don t feel guilty like i m not going to be able to cook for him\n",
        "Prediction: Joy\n",
        "Label: Sadness\n",
        "--------------------------------------------------\n",
        "Input: i hate it when i feel fearful for absolutely no reason\n",
        "Prediction: Anger\n",
        "Label: Fear\n",
        "--------------------------------------------------\n",
        "Input: i am feeling outraged it shows everywhere\n",
        "Prediction: Anger\n",
        "Label: Anger\n",
        "--------------------------------------------------\n",
        "Input: i stole a book from one of my all time favorite authors and now i feel like a rotten person\n",
        "Prediction: Sadness\n",
        "Label: Sadness\n",
        "--------------------------------------------------\n",
        "Input: i do feel insecure sometimes but who doesnt\n",
        "Prediction: Sadness\n",
        "Label: Fear\n",
        "--------------------------------------------------\n",
        "Input: i highly recommend visiting on a wednesday if youre able because its less crowded so you get to ask the farmers more questions without feeling rude for holding up a line\n",
        "Prediction: Anger\n",
        "Label: Anger\n",
        "--------------------------------------------------\n",
        "Input: ive been missing him and feeling so restless at home thinking of him\n",
        "Prediction: Sadness\n",
        "Label: Fear\n",
        "--------------------------------------------------\n",
        "Input: i posted on my facebook page earlier this week ive been feeling a little grumpy and out of sorts the past few days\n",
        "Prediction: Sadness\n",
        "Label: Anger\n",
        "--------------------------------------------------\n",
        "Input: i start to feel emotional\n",
        "Prediction: Fear\n",
        "Label: Sadness\n",
        "--------------------------------------------------\n",
        "Input: i feel so cold a href http irish\n",
        "Prediction: Sadness\n",
        "Label: Anger\n",
        "--------------------------------------------------\n",
        "Input: i feel like i m defective or something for not having baby fever\n",
        "Prediction: Sadness\n",
        "Label: Sadness\n",
        "--------------------------------------------------\n",
        "Input: i feel more virtuous than when i eat veggies dipped in hummus\n",
        "Prediction: Joy\n",
        "Label: Joy\n",
        "--------------------------------------------------\n",
        "Input: i feel very honoured to be included in a magzine which prioritises health and clean living so highly im curious do any of you read magazines concerned with health and clean lifestyles such as the green parent\n",
        "Prediction: Joy\n",
        "Label: Joy\n",
        "--------------------------------------------------\n",
        "Input: i spent the last two weeks of school feeling miserable\n",
        "Prediction: Sadness\n",
        "Label: Sadness\n",
        "--------------------------------------------------\n",
        "Input: im feeling very peaceful about our wedding again now after having\n",
        "Prediction: Joy\n",
        "Label: Joy\n",
        "--------------------------------------------------\n",
        "Input: i had been talking to coach claudia barcomb and coach ali boe for a long time and they both made me feel very welcomed at union\n",
        "Prediction: Joy\n",
        "Label: Joy\n",
        "--------------------------------------------------\n",
        "Input: i feel if i completely hated things i d exercise my democratic right speak my mind in what ever ways possible and try to enact a change\n",
        "Prediction: Joy\n",
        "Label: Anger\n",
        "--------------------------------------------------\n",
        "Input: i feel humiliated embarrassed or foolish i will remember that others have felt the same way because of the same kinds of things and i will be kind and helpful and accepting\n",
        "Prediction: Sadness\n",
        "Label: Sadness\n",
        "--------------------------------------------------\n",
        "Input: i feel reassured that i am dealing with my diet in the right way and that all is good\n",
        "Prediction: Joy\n",
        "Label: Joy\n",
        "--------------------------------------------------\n",
        "Input: i feel i have to agree with her even though i can imagine some rather unpleasant possible cases\n",
        "Prediction: Fear\n",
        "Label: Sadness\n",
        "--------------------------------------------------\n",
        "Input: im in such a happy mood today i feel almost delighted and i havent done anything different today then i normally have it is wonderful\n",
        "Prediction: Joy\n",
        "Label: Joy\n",
        "--------------------------------------------------\n",
        "Input: im feeling really out of place and irritated\n",
        "Prediction: Anger\n",
        "Label: Anger\n",
        "--------------------------------------------------\n",
        "Input: i also know that i feel nothing than a friendly affection to them too\n",
        "Prediction: Love\n",
        "Label: Joy\n",
        "--------------------------------------------------\n",
        "Input: i feel like i had a rather productive weekend and i cant always say that no matter how much i get done\n",
        "Prediction: Joy\n",
        "Label: Joy\n",
        "--------------------------------------------------```\n",
        "\n"
      ],
      "metadata": {
        "id": "WtvsqZS1SeEI"
      },
      "id": "WtvsqZS1SeEI"
    },
    {
      "cell_type": "markdown",
      "source": [
        "#### Finetune the Whole Model\n",
        "To increase the performances I tried to finetune the whole model:"
      ],
      "metadata": {
        "id": "w0s7VEMk7h5t"
      },
      "id": "w0s7VEMk7h5t"
    },
    {
      "cell_type": "code",
      "source": [
        "config = {\n",
        "    \"use_wandb\": True,\n",
        "    \"num_epochs\": 10,\n",
        "    \"model_name\": \"text_classifier\",\n",
        "    \"dataset\": \"dair-ai/emotion\",\n",
        "    \"batch_size\": 16,\n",
        "    \"lr\": 5e-5,\n",
        "    \"num_classes\": 6,\n",
        "    \"metrics\": [\"accuracy\", \"precision\", \"recall\"],\n",
        "    \"optimizer\": \"adamw\",\n",
        "    \"loss\": \"cross_entropy\",\n",
        "    \"training_mode\": \"finetune\"\n",
        "}\n",
        "\n",
        "trainer = LLMTrainer(config)\n",
        "trainer.run()"
      ],
      "metadata": {
        "id": "x2pLHBY25k0M"
      },
      "id": "x2pLHBY25k0M",
      "execution_count": null,
      "outputs": []
    },
    {
      "cell_type": "markdown",
      "source": [
        "#### Quantitative Evalutation:\n",
        "The model have great performances with more than 90% accuracy.\\\n",
        "It is not overfitted as shown by the plot of the val_loss."
      ],
      "metadata": {
        "id": "yVIQBy2MHdEv"
      },
      "id": "yVIQBy2MHdEv"
    },
    {
      "cell_type": "markdown",
      "source": [
        "![immagine.png](data:image/png;base64,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)"
      ],
      "metadata": {
        "id": "PGqUgpDEF7Et"
      },
      "id": "PGqUgpDEF7Et"
    },
    {
      "cell_type": "markdown",
      "source": [
        "**Run Summary**\\\n",
        "Test Loss: **0.2398**\\\n",
        "Test MulticlassAccuracy: **0.9065**\\\n",
        "Test MulticlassPrecision: **0.8704**\\\n",
        "Test MulticlassRecall: **0.8581**"
      ],
      "metadata": {
        "id": "PyMf4i3vTTdt"
      },
      "id": "PyMf4i3vTTdt"
    },
    {
      "cell_type": "markdown",
      "source": [
        "#### Qualitative Evalutation"
      ],
      "metadata": {
        "id": "7FS_Gj8yGwZG"
      },
      "id": "7FS_Gj8yGwZG"
    },
    {
      "cell_type": "markdown",
      "source": [
        "Also qualitatively now predictions make way more sense than the shallow model."
      ],
      "metadata": {
        "id": "JfWZL-rQUgZJ"
      },
      "id": "JfWZL-rQUgZJ"
    },
    {
      "cell_type": "markdown",
      "source": [
        "\n",
        "\n",
        "```\n",
        "Input: im feeling rather rotten so im not very ambitious right now\n",
        "Prediction: Sadness\n",
        "Label: Sadness\n",
        "--------------------------------------------------\n",
        "Input: im updating my blog because i feel shitty\n",
        "Prediction: Sadness\n",
        "Label: Sadness\n",
        "--------------------------------------------------\n",
        "Input: i never make her separate from me because i don t ever want her to feel like i m ashamed with her\n",
        "Prediction: Sadness\n",
        "Label: Sadness\n",
        "--------------------------------------------------\n",
        "Input: i left with my bouquet of red and yellow tulips under my arm feeling slightly more optimistic than when i arrived\n",
        "Prediction: Joy\n",
        "Label: Joy\n",
        "--------------------------------------------------\n",
        "Input: i was feeling a little vain when i did this one\n",
        "Prediction: Sadness\n",
        "Label: Sadness\n",
        "--------------------------------------------------\n",
        "Input: i cant walk into a shop anywhere where i do not feel uncomfortable\n",
        "Prediction: Fear\n",
        "Label: Fear\n",
        "--------------------------------------------------\n",
        "Input: i felt anger when at the end of a telephone call\n",
        "Prediction: Anger\n",
        "Label: Anger\n",
        "--------------------------------------------------\n",
        "Input: i explain why i clung to a relationship with a boy who was in many ways immature and uncommitted despite the excitement i should have been feeling for getting accepted into the masters program at the university of virginia\n",
        "Prediction: Sadness\n",
        "Label: Joy\n",
        "--------------------------------------------------\n",
        "Input: i like to have the same breathless feeling as a reader eager to see what will happen next\n",
        "Prediction: Joy\n",
        "Label: Joy\n",
        "--------------------------------------------------\n",
        "Input: i jest i feel grumpy tired and pre menstrual which i probably am but then again its only been a week and im about as fit as a walrus on vacation for the summer\n",
        "Prediction: Anger\n",
        "Label: Anger\n",
        "--------------------------------------------------\n",
        "Input: i don t feel particularly agitated\n",
        "Prediction: Anger\n",
        "Label: Fear\n",
        "--------------------------------------------------\n",
        "Input: i feel beautifully emotional knowing that these women of whom i knew just a handful were holding me and my baba on our journey\n",
        "Prediction: Sadness\n",
        "Label: Sadness\n",
        "--------------------------------------------------\n",
        "Input: i pay attention it deepens into a feeling of being invaded and helpless\n",
        "Prediction: Fear\n",
        "Label: Fear\n",
        "--------------------------------------------------\n",
        "Input: i just feel extremely comfortable with the group of people that i dont even need to hide myself\n",
        "Prediction: Joy\n",
        "Label: Joy\n",
        "--------------------------------------------------\n",
        "Input: i find myself in the odd position of feeling supportive of\n",
        "Prediction: Love\n",
        "Label: Love\n",
        "--------------------------------------------------\n",
        "Input: i was feeling as heartbroken as im sure katniss was\n",
        "Prediction: Sadness\n",
        "Label: Sadness\n",
        "--------------------------------------------------\n",
        "Input: i feel a little mellow today\n",
        "Prediction: Joy\n",
        "Label: Joy\n",
        "--------------------------------------------------\n",
        "Input: i feel like my only role now would be to tear your sails with my pessimism and discontent\n",
        "Prediction: Sadness\n",
        "Label: Sadness\n",
        "--------------------------------------------------\n",
        "Input: i feel just bcoz a fight we get mad to each other n u wanna make a publicity n let the world knows about our fight\n",
        "Prediction: Anger\n",
        "Label: Anger\n",
        "--------------------------------------------------\n",
        "Input: i feel like reds and purples are just so rich and kind of perfect\n",
        "Prediction: Joy\n",
        "Label: Joy\n",
        "--------------------------------------------------\n",
        "Input: im not sure the feeling of loss will ever go away but it may dull to a sweet feeling of nostalgia at what i shared in this life with my dad and the luck i had to have a dad for years\n",
        "Prediction: Love\n",
        "Label: Sadness\n",
        "--------------------------------------------------\n",
        "Input: i feel like ive gotten to know many of you through comments and emails and for that im appreciative and glad you are a part of this little space\n",
        "Prediction: Joy\n",
        "Label: Joy\n",
        "--------------------------------------------------\n",
        "Input: i survey my own posts over the last few years and only feel pleased with vague snippets of a few of them only feel that little bits of them capture what its like to be me or someone like me in dublin in the st century\n",
        "Prediction: Joy\n",
        "Label: Joy\n",
        "--------------------------------------------------\n",
        "Input: i also tell you in hopes that anyone who is still feeling stigmatized or ashamed of their mental health issues will let go of the stigma let go of the shame\n",
        "Prediction: Sadness\n",
        "Label: Sadness\n",
        "--------------------------------------------------\n",
        "Input: i don t feel guilty like i m not going to be able to cook for him\n",
        "Prediction: Sadness\n",
        "Label: Sadness\n",
        "--------------------------------------------------\n",
        "Input: i hate it when i feel fearful for absolutely no reason\n",
        "Prediction: Fear\n",
        "Label: Fear\n",
        "--------------------------------------------------\n",
        "Input: i am feeling outraged it shows everywhere\n",
        "Prediction: Anger\n",
        "Label: Anger\n",
        "--------------------------------------------------\n",
        "Input: i stole a book from one of my all time favorite authors and now i feel like a rotten person\n",
        "Prediction: Sadness\n",
        "Label: Sadness\n",
        "--------------------------------------------------\n",
        "Input: i do feel insecure sometimes but who doesnt\n",
        "Prediction: Fear\n",
        "Label: Fear\n",
        "--------------------------------------------------\n",
        "Input: i highly recommend visiting on a wednesday if youre able because its less crowded so you get to ask the farmers more questions without feeling rude for holding up a line\n",
        "Prediction: Anger\n",
        "Label: Anger\n",
        "--------------------------------------------------\n",
        "Input: ive been missing him and feeling so restless at home thinking of him\n",
        "Prediction: Fear\n",
        "Label: Fear\n",
        "--------------------------------------------------\n",
        "Input: i posted on my facebook page earlier this week ive been feeling a little grumpy and out of sorts the past few days\n",
        "Prediction: Anger\n",
        "Label: Anger\n",
        "--------------------------------------------------\n",
        "Input: i start to feel emotional\n",
        "Prediction: Sadness\n",
        "Label: Sadness\n",
        "--------------------------------------------------\n",
        "Input: i feel so cold a href http irish\n",
        "Prediction: Anger\n",
        "Label: Anger\n",
        "--------------------------------------------------\n",
        "Input: i feel like i m defective or something for not having baby fever\n",
        "Prediction: Sadness\n",
        "Label: Sadness\n",
        "--------------------------------------------------\n",
        "Input: i feel more virtuous than when i eat veggies dipped in hummus\n",
        "Prediction: Joy\n",
        "Label: Joy\n",
        "--------------------------------------------------\n",
        "Input: i feel very honoured to be included in a magzine which prioritises health and clean living so highly im curious do any of you read magazines concerned with health and clean lifestyles such as the green parent\n",
        "Prediction: Joy\n",
        "Label: Joy\n",
        "--------------------------------------------------\n",
        "Input: i spent the last two weeks of school feeling miserable\n",
        "Prediction: Sadness\n",
        "Label: Sadness\n",
        "--------------------------------------------------\n",
        "Input: im feeling very peaceful about our wedding again now after having\n",
        "Prediction: Joy\n",
        "Label: Joy\n",
        "--------------------------------------------------\n",
        "Input: i had been talking to coach claudia barcomb and coach ali boe for a long time and they both made me feel very welcomed at union\n",
        "Prediction: Joy\n",
        "Label: Joy\n",
        "--------------------------------------------------\n",
        "Input: i feel if i completely hated things i d exercise my democratic right speak my mind in what ever ways possible and try to enact a change\n",
        "Prediction: Anger\n",
        "Label: Anger\n",
        "--------------------------------------------------\n",
        "Input: i feel humiliated embarrassed or foolish i will remember that others have felt the same way because of the same kinds of things and i will be kind and helpful and accepting\n",
        "Prediction: Sadness\n",
        "Label: Sadness\n",
        "--------------------------------------------------\n",
        "Input: i feel reassured that i am dealing with my diet in the right way and that all is good\n",
        "Prediction: Joy\n",
        "Label: Joy\n",
        "--------------------------------------------------\n",
        "Input: i feel i have to agree with her even though i can imagine some rather unpleasant possible cases\n",
        "Prediction: Sadness\n",
        "Label: Sadness\n",
        "--------------------------------------------------\n",
        "Input: im in such a happy mood today i feel almost delighted and i havent done anything different today then i normally have it is wonderful\n",
        "Prediction: Joy\n",
        "Label: Joy\n",
        "--------------------------------------------------\n",
        "Input: im feeling really out of place and irritated\n",
        "Prediction: Anger\n",
        "Label: Anger\n",
        "--------------------------------------------------\n",
        "Input: i also know that i feel nothing than a friendly affection to them too\n",
        "Prediction: Joy\n",
        "Label: Joy\n",
        "--------------------------------------------------\n",
        "Input: i feel like i had a rather productive weekend and i cant always say that no matter how much i get done\n",
        "Prediction: Joy\n",
        "Label: Joy\n",
        "--------------------------------------------------```\n",
        "\n"
      ],
      "metadata": {
        "id": "9SE_NwS7GEl5"
      },
      "id": "9SE_NwS7GEl5"
    }
  ],
  "metadata": {
    "colab": {
      "provenance": [],
      "gpuType": "T4",
      "collapsed_sections": [
        "MzBOftqf3t0z"
      ]
    },
    "kernelspec": {
      "display_name": "Python 3",
      "name": "python3"
    },
    "language_info": {
      "codemirror_mode": {
        "name": "ipython",
        "version": 3
      },
      "file_extension": ".py",
      "mimetype": "text/x-python",
      "name": "python",
      "nbconvert_exporter": "python",
      "pygments_lexer": "ipython3",
      "version": "3.10.8"
    },
    "accelerator": "GPU"
  },
  "nbformat": 4,
  "nbformat_minor": 5
}